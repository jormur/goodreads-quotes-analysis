{
 "cells": [
  {
   "cell_type": "markdown",
   "metadata": {},
   "source": [
    "# Goodreads Data Exploration\n",
    "## A Journey from R to Python\n",
    "\n",
    "### Background\n",
    "Goodreads is an online book review and recommendation site. It's a great place to find new books to read and to keep track of what you've read. It's also a great place to find data on books and their reviews. This project is a personal exploration of the data available on Goodreads and a comparison of the differences between R and Python.\n",
    "\n",
    "I had initially begun with this project in R, a task born out of a desire to develop my own personal skills and simply to see what I could accomplish with just a bit of determination. It was admittably a bit rough around the edges and in tandem with polishing and finishing that project, I'd like to set out on another in tandem: to teach myself Python. Throughout academia, R is commonly used and throughout my studies, I have had many courses and done many projects using it. However, the *\"real-world\"* doesn't employ it as commonly. That award by and far goes to Python, in the data space that is. Therefore, in preparation for my graduation with my master's and job-seeking, I'm eager to learn as much as I can!\n",
    "\n",
    "For the sake of understanding, I'll be making personal notes as to the differences in syntax and perceived utility and function between the operation used within the two languages for the sake of this project.\n",
    "\n",
    "### Methodology\n",
    "If we can break down the process of going about a project like this, we can see that there are a few key steps:\n",
    "1. Data Visualization\n",
    "2. Analysis & Extrapolation\n",
    "\n",
    "#### Data Visualization\n",
    "This step would involve things like examining the data, breaking it down into smaller chunks, and visualizing it in a way that makes sense. This would tell us the most obvious trends and patterns in the data and give us a good idea of what we're working with. Here we can do things such as seeing who is the most popularly quoted author and what kinds of quotes and tags of quotes end up becoming popular. Here is also where we can some fun expermienting with abstract and creative visual representations of the data.\n",
    "\n",
    "#### Analysis & Extrapolation\n",
    "This step would involve things like making predictions, testing hypotheses, and making inferences. This would tell us the less obvious trends and patterns in the data. This is where we can really dig into the data and find the hidden gems. Tenets in the realm of causal inference and econometrics would come into play here. As a *hopeful* trained economist, I hope my years of education prove most useful here.\n",
    "\n",
    "Some preliminary ideas here is to investigate the **significance of the kind of tags attached to quotes to its subsequent popularity**. For example, does a quote tagged with \"love\" have a higher chance of becoming popular than a quote tagged with \"hate\"? Does a quote tagged with \"life\" have a higher chance of becoming popular than a quote tagged with \"death\"? Does a quote tagged with \"romance\" have a higher chance of becoming popular than a quote tagged with \"horror\"? For curiosity's sake, can we extrapolate this to speak of something of the kind of sentiment that we human beings seek out?\n",
    "\n",
    "Another idea is to see investiate the **boosting effects that the tags have on the authors themselves**? Are some authors more likely to get the popular tags and how much of an effect does this have on the popularity of the quote itself?\n",
    "\n",
    "Going further, we can break down the quotes themselves into different sub-groups based on sentiment and see the degree to which they correlate with the sentiment of their attached tags. Likewise, **is their popularity boosted by the mismatch of the sentiment of their tags?** \n",
    "\n",
    "Lastly, I can seek to break down the quotes into clusters based on devised and extrapolated features to create a more macroscopic overview of the quotes present on Goodreads, as a way of wrapping up the project."
   ]
  },
  {
   "cell_type": "markdown",
   "metadata": {},
   "source": [
    "### Prelimanry Data Exploration\n",
    "Importing the relevant packages and libraries; similar to R. However the need to note the name the library is imported as is noted here."
   ]
  },
  {
   "cell_type": "code",
   "execution_count": 1,
   "metadata": {},
   "outputs": [],
   "source": [
    "import pandas as pd\n",
    "import numpy as np\n",
    "import matplotlib.pyplot as plt\n",
    "import seaborn as sns\n",
    "from sklearn.preprocessing import normalize"
   ]
  },
  {
   "cell_type": "code",
   "execution_count": 6,
   "metadata": {},
   "outputs": [],
   "source": [
    "#Loading the data\n",
    "quotes = pd.read_csv(\"quotes.csv\")"
   ]
  },
  {
   "cell_type": "code",
   "execution_count": 5,
   "metadata": {},
   "outputs": [
    {
     "data": {
      "text/plain": [
       "(3001, 5)"
      ]
     },
     "execution_count": 5,
     "metadata": {},
     "output_type": "execute_result"
    }
   ],
   "source": [
    "#Let's see the dimension of the data\n",
    "quotes.shape"
   ]
  },
  {
   "cell_type": "code",
   "execution_count": 7,
   "metadata": {},
   "outputs": [
    {
     "data": {
      "text/html": [
       "<div>\n",
       "<style scoped>\n",
       "    .dataframe tbody tr th:only-of-type {\n",
       "        vertical-align: middle;\n",
       "    }\n",
       "\n",
       "    .dataframe tbody tr th {\n",
       "        vertical-align: top;\n",
       "    }\n",
       "\n",
       "    .dataframe thead th {\n",
       "        text-align: right;\n",
       "    }\n",
       "</style>\n",
       "<table border=\"1\" class=\"dataframe\">\n",
       "  <thead>\n",
       "    <tr style=\"text-align: right;\">\n",
       "      <th></th>\n",
       "      <th>index</th>\n",
       "      <th>quote</th>\n",
       "      <th>author</th>\n",
       "      <th>tags</th>\n",
       "      <th>likes</th>\n",
       "    </tr>\n",
       "  </thead>\n",
       "  <tbody>\n",
       "    <tr>\n",
       "      <th>0</th>\n",
       "      <td>0</td>\n",
       "      <td>Be yourself; everyone else is already taken.</td>\n",
       "      <td>Oscar Wilde</td>\n",
       "      <td>attributed-no-source;be-yourself;honesty;inspi...</td>\n",
       "      <td>149270</td>\n",
       "    </tr>\n",
       "    <tr>\n",
       "      <th>1</th>\n",
       "      <td>1</td>\n",
       "      <td>You've gotta dance like there's nobody watching</td>\n",
       "      <td>William W. Purkey</td>\n",
       "      <td>dance;heaven;hurt;inspirational;life;love;sing</td>\n",
       "      <td>118888</td>\n",
       "    </tr>\n",
       "    <tr>\n",
       "      <th>2</th>\n",
       "      <td>2</td>\n",
       "      <td>Be the change that you wish to see in the world.</td>\n",
       "      <td>Mahatma Gandhi</td>\n",
       "      <td>action;change;inspirational;philosophy;wish</td>\n",
       "      <td>106749</td>\n",
       "    </tr>\n",
       "    <tr>\n",
       "      <th>3</th>\n",
       "      <td>3</td>\n",
       "      <td>No one can make you feel inferior without your...</td>\n",
       "      <td>Eleanor Roosevelt,</td>\n",
       "      <td>confidence;inspirational;wisdom</td>\n",
       "      <td>85854</td>\n",
       "    </tr>\n",
       "    <tr>\n",
       "      <th>4</th>\n",
       "      <td>4</td>\n",
       "      <td>Live as if you were to die tomorrow. Learn as ...</td>\n",
       "      <td>Mahatma Gandhi</td>\n",
       "      <td>carpe-diem;education;inspirational;learning</td>\n",
       "      <td>73033</td>\n",
       "    </tr>\n",
       "    <tr>\n",
       "      <th>5</th>\n",
       "      <td>5</td>\n",
       "      <td>Darkness cannot drive out darkness: only light...</td>\n",
       "      <td>Martin Luther King Jr.,</td>\n",
       "      <td>darkness;drive-out;hate;inspirational;light;lo...</td>\n",
       "      <td>72616</td>\n",
       "    </tr>\n",
       "    <tr>\n",
       "      <th>6</th>\n",
       "      <td>6</td>\n",
       "      <td>Without music, life would be a mistake.</td>\n",
       "      <td>Friedrich Nietzsche,</td>\n",
       "      <td>inspirational;music;philosophy</td>\n",
       "      <td>67297</td>\n",
       "    </tr>\n",
       "    <tr>\n",
       "      <th>7</th>\n",
       "      <td>7</td>\n",
       "      <td>We accept the love we think we deserve.</td>\n",
       "      <td>Stephen Chbosky,</td>\n",
       "      <td>inspirational;love</td>\n",
       "      <td>66047</td>\n",
       "    </tr>\n",
       "    <tr>\n",
       "      <th>8</th>\n",
       "      <td>8</td>\n",
       "      <td>Imperfection is beauty, madness is genius and ...</td>\n",
       "      <td>Marilyn Monroe</td>\n",
       "      <td>attributed-no-source;be-yourself;inspirational</td>\n",
       "      <td>48176</td>\n",
       "    </tr>\n",
       "    <tr>\n",
       "      <th>9</th>\n",
       "      <td>9</td>\n",
       "      <td>There are only two ways to live your life. One...</td>\n",
       "      <td>Albert Einstein</td>\n",
       "      <td>attributed-no-source;inspirational;life;live;m...</td>\n",
       "      <td>47424</td>\n",
       "    </tr>\n",
       "  </tbody>\n",
       "</table>\n",
       "</div>"
      ],
      "text/plain": [
       "   index                                              quote  \\\n",
       "0      0       Be yourself; everyone else is already taken.   \n",
       "1      1    You've gotta dance like there's nobody watching   \n",
       "2      2   Be the change that you wish to see in the world.   \n",
       "3      3  No one can make you feel inferior without your...   \n",
       "4      4  Live as if you were to die tomorrow. Learn as ...   \n",
       "5      5  Darkness cannot drive out darkness: only light...   \n",
       "6      6            Without music, life would be a mistake.   \n",
       "7      7            We accept the love we think we deserve.   \n",
       "8      8  Imperfection is beauty, madness is genius and ...   \n",
       "9      9  There are only two ways to live your life. One...   \n",
       "\n",
       "                    author                                               tags  \\\n",
       "0              Oscar Wilde  attributed-no-source;be-yourself;honesty;inspi...   \n",
       "1        William W. Purkey     dance;heaven;hurt;inspirational;life;love;sing   \n",
       "2           Mahatma Gandhi        action;change;inspirational;philosophy;wish   \n",
       "3       Eleanor Roosevelt,                    confidence;inspirational;wisdom   \n",
       "4           Mahatma Gandhi        carpe-diem;education;inspirational;learning   \n",
       "5  Martin Luther King Jr.,  darkness;drive-out;hate;inspirational;light;lo...   \n",
       "6     Friedrich Nietzsche,                     inspirational;music;philosophy   \n",
       "7         Stephen Chbosky,                                 inspirational;love   \n",
       "8           Marilyn Monroe     attributed-no-source;be-yourself;inspirational   \n",
       "9          Albert Einstein  attributed-no-source;inspirational;life;live;m...   \n",
       "\n",
       "    likes  \n",
       "0  149270  \n",
       "1  118888  \n",
       "2  106749  \n",
       "3   85854  \n",
       "4   73033  \n",
       "5   72616  \n",
       "6   67297  \n",
       "7   66047  \n",
       "8   48176  \n",
       "9   47424  "
      ]
     },
     "execution_count": 7,
     "metadata": {},
     "output_type": "execute_result"
    }
   ],
   "source": [
    "#Now, let's see the first 10 rows of the data\n",
    "quotes.head(10)"
   ]
  },
  {
   "cell_type": "markdown",
   "metadata": {},
   "source": [
    "The dataset is recorded as such where it contains information on the book, the author, the average rating, the number of ratings, the number of reviews, the number of pages, the year published, the genres, and the awards won. The data set is a bit messy and has some columns that are not needed for this project. The columns that are not needed are dropped and the remaining columns are renamed to be more easily understood."
   ]
  },
  {
   "cell_type": "code",
   "execution_count": null,
   "metadata": {},
   "outputs": [],
   "source": [
    "#separate tags into a list\n",
    "quotes['tags'] = quotes['tags'].apply(lambda x: x.split(\",\"))"
   ]
  }
 ],
 "metadata": {
  "kernelspec": {
   "display_name": "base",
   "language": "python",
   "name": "python3"
  },
  "language_info": {
   "codemirror_mode": {
    "name": "ipython",
    "version": 3
   },
   "file_extension": ".py",
   "mimetype": "text/x-python",
   "name": "python",
   "nbconvert_exporter": "python",
   "pygments_lexer": "ipython3",
   "version": "3.1.undefined"
  },
  "orig_nbformat": 4
 },
 "nbformat": 4,
 "nbformat_minor": 2
}
